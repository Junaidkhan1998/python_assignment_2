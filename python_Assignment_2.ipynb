{
 "cells": [
  {
   "cell_type": "code",
   "execution_count": 8,
   "metadata": {},
   "outputs": [
    {
     "name": "stdout",
     "output_type": "stream",
     "text": [
      "Enter any number of maths55\n",
      "Enter any number of English98\n",
      "Enter any number of computer41\n",
      "Enter any number of Physics44\n",
      "Enter any number of Chemistry81\n",
      "Grade:B\n"
     ]
    }
   ],
   "source": [
    "sub1 = int(input(\"Enter any number of maths\"))\n",
    "\n",
    "sub2 = int(input(\"Enter any number of English\"))\n",
    "\n",
    "sub3 = int(input(\"Enter any number of computer\"))\n",
    "\n",
    "sub4 = int(input(\"Enter any number of Physics\"))\n",
    "\n",
    "sub5 = int(input(\"Enter any number of Chemistry\"))\n",
    "\n",
    "per =(sub1+sub2+sub3+sub4+sub5)/5\n",
    "if per >=80 :\n",
    "  print(\"Grade:A+\")\n",
    "elif per >=70 and per <80 :\n",
    "    print(\"Grade:A\")\n",
    "elif per >=60 and per <70 :\n",
    "    print(\"Grade:B\")\n",
    "elif per >=50 and per <60 :\n",
    "    print(\"Grade:C\")\n",
    "elif per >=40 and per <50 :\n",
    "    print(\"Grade:D\")\n",
    "elif per >=30 and per <40 :\n",
    "    print(\"Grade:E\")\n",
    "    \n",
    "else :\n",
    "    print(\"failed\")\n",
    "    \n",
    "    \n",
    "    "
   ]
  },
  {
   "cell_type": "code",
   "execution_count": 16,
   "metadata": {},
   "outputs": [
    {
     "name": "stdout",
     "output_type": "stream",
     "text": [
      "Enter any number:33\n",
      "This number is odd\n"
     ]
    }
   ],
   "source": [
    "a = int(input(\"Enter any number:\"))\n",
    "     \n",
    "if a%2==0 :\n",
    "    print(\"This number is even\")\n",
    "else :\n",
    "    print(\"This number is odd\")\n",
    "    \n",
    "    "
   ]
  },
  {
   "cell_type": "code",
   "execution_count": 3,
   "metadata": {},
   "outputs": [
    {
     "name": "stdout",
     "output_type": "stream",
     "text": [
      "11\n"
     ]
    }
   ],
   "source": [
    "length= len([\"khurram\",\"2\",\"3.5\",\"4\",\"junaid\",\"6\",\"7.9\",\"zaka\",\"9\",\"10\",\"ibrahim\"])\n",
    "\n",
    "print(length )\n"
   ]
  },
  {
   "cell_type": "code",
   "execution_count": 20,
   "metadata": {},
   "outputs": [
    {
     "name": "stdout",
     "output_type": "stream",
     "text": [
      "[22, 8, 43, 18, 9, 77]\n",
      "177\n"
     ]
    }
   ],
   "source": [
    "list = [22,8,43,18,9,77]\n",
    "print(list)\n",
    "\n",
    "sumvalue=sum(list)\n",
    "print(sumvalue)"
   ]
  },
  {
   "cell_type": "code",
   "execution_count": 18,
   "metadata": {},
   "outputs": [
    {
     "name": "stdout",
     "output_type": "stream",
     "text": [
      "[22, 8, 43, 18, 9]\n",
      "43\n"
     ]
    }
   ],
   "source": [
    "list = [22,8,43,18,9]\n",
    "print(list)\n",
    "\n",
    "maxvalue = max(list)\n",
    "print(maxvalue)\n",
    "\n"
   ]
  },
  {
   "cell_type": "code",
   "execution_count": 22,
   "metadata": {},
   "outputs": [
    {
     "name": "stdout",
     "output_type": "stream",
     "text": [
      "[1, 1, 2, 3, 5, 8, 13, 21, 34, 55, 89]\n",
      "[1, 1, 2, 3]\n"
     ]
    }
   ],
   "source": [
    "list = [1,1,2,3,5,8,13,21,34,55,89]\n",
    "print(list)\n",
    "\n",
    "list1=list[0:4]\n",
    "print(list1)"
   ]
  },
  {
   "cell_type": "code",
   "execution_count": null,
   "metadata": {},
   "outputs": [],
   "source": []
  }
 ],
 "metadata": {
  "kernelspec": {
   "display_name": "Python 3",
   "language": "python",
   "name": "python3"
  },
  "language_info": {
   "codemirror_mode": {
    "name": "ipython",
    "version": 3
   },
   "file_extension": ".py",
   "mimetype": "text/x-python",
   "name": "python",
   "nbconvert_exporter": "python",
   "pygments_lexer": "ipython3",
   "version": "3.7.4"
  }
 },
 "nbformat": 4,
 "nbformat_minor": 2
}
